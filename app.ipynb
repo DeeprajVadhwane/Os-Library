{
 "cells": [
  {
   "cell_type": "markdown",
   "metadata": {},
   "source": [
    "# Python's os Library\n",
    "\n",
    "The os library in Python offers a powerful suite of tools for interacting with the operating system. It covers essential functionalities for file manipulation, directory management, process control, and handling environment variables. Let's dive deep into each segment and its key functions.\n",
    "\n"
   ]
  },
  {
   "cell_type": "markdown",
   "metadata": {},
   "source": [
    "## 1. File and Directory Management\n"
   ]
  },
  {
   "cell_type": "markdown",
   "metadata": {},
   "source": [
    "**Current Working Directory Functions:**\n",
    "\n",
    "    - os.getcwd()\n",
    "    \n",
    "        -Returns the current working directory."
   ]
  },
  {
   "cell_type": "code",
   "execution_count": 2,
   "metadata": {},
   "outputs": [
    {
     "name": "stdout",
     "output_type": "stream",
     "text": [
      "e:\\Github Files\\Os-Library\n"
     ]
    }
   ],
   "source": [
    "import os\n",
    "print(os.getcwd())"
   ]
  },
  {
   "cell_type": "markdown",
   "metadata": {},
   "source": [
    "Creates a new directory at the specified path.\n",
    "\n",
    "`os.mkdir(path)`\n"
   ]
  },
  {
   "cell_type": "code",
   "execution_count": 3,
   "metadata": {},
   "outputs": [],
   "source": [
    "os.mkdir(\"Sample data/phonepe\")"
   ]
  },
  {
   "cell_type": "markdown",
   "metadata": {},
   "source": [
    "Creates directories recursively, creating intermediate-level directories if necessary.\n",
    "\n",
    "`os.makedirs(path)`\n"
   ]
  },
  {
   "cell_type": "markdown",
   "metadata": {},
   "source": []
  },
  {
   "cell_type": "code",
   "execution_count": 4,
   "metadata": {},
   "outputs": [],
   "source": [
    "os.makedirs(\"Sample data/Main folder/Folder/sub folder/folder\")"
   ]
  },
  {
   "cell_type": "code",
   "execution_count": 5,
   "metadata": {},
   "outputs": [],
   "source": [
    "os.makedirs(\"Sample data/1/2/3/4/5/\")"
   ]
  },
  {
   "cell_type": "markdown",
   "metadata": {},
   "source": [
    "Renames a file or directory \n",
    "\n",
    "`os.rename`\n"
   ]
  },
  {
   "cell_type": "code",
   "execution_count": 6,
   "metadata": {},
   "outputs": [],
   "source": [
    "os.rename(\"Sample data/1.json\",\"Sample data/first.json\")"
   ]
  },
  {
   "cell_type": "markdown",
   "metadata": {},
   "source": [
    "Removes directories recursively.\n",
    "`os.removedirs(path)`"
   ]
  },
  {
   "cell_type": "code",
   "execution_count": 54,
   "metadata": {},
   "outputs": [],
   "source": [
    "# os.removedirs(\"Maharashtra/2020\")"
   ]
  },
  {
   "cell_type": "markdown",
   "metadata": {},
   "source": [
    "## File Handling\n"
   ]
  },
  {
   "cell_type": "markdown",
   "metadata": {},
   "source": [
    "Deletes the specified file.\n",
    "\n",
    "`os.remove(path)` or `os.unlink(path)`"
   ]
  },
  {
   "cell_type": "code",
   "execution_count": null,
   "metadata": {},
   "outputs": [],
   "source": [
    "os.remove(\"Sample data/3.json\")"
   ]
  },
  {
   "cell_type": "markdown",
   "metadata": {},
   "source": [
    "Checks if a file or directory exists.\n",
    "`os.path.exists(path)`"
   ]
  },
  {
   "cell_type": "code",
   "execution_count": 14,
   "metadata": {},
   "outputs": [
    {
     "name": "stdout",
     "output_type": "stream",
     "text": [
      "True\n"
     ]
    }
   ],
   "source": [
    "print(os.path.exists(\"Sample data/first.json\"))"
   ]
  },
  {
   "cell_type": "markdown",
   "metadata": {},
   "source": [
    "Checks if the path is a file.\n",
    "`os.path.isfile(path)`\n",
    "\n"
   ]
  },
  {
   "cell_type": "code",
   "execution_count": 15,
   "metadata": {},
   "outputs": [
    {
     "name": "stdout",
     "output_type": "stream",
     "text": [
      "False\n"
     ]
    }
   ],
   "source": [
    "print(os.path.isfile(\"Sample data/3.json\"))\n"
   ]
  },
  {
   "cell_type": "markdown",
   "metadata": {},
   "source": [
    "Checks if the path is a directory.\n",
    "`os.path.isdir(path)`"
   ]
  },
  {
   "cell_type": "code",
   "execution_count": 21,
   "metadata": {},
   "outputs": [
    {
     "name": "stdout",
     "output_type": "stream",
     "text": [
      "True\n"
     ]
    }
   ],
   "source": [
    "print(os.path.isdir(\"Sample data/Main Folder/Folder\"))\n"
   ]
  },
  {
   "cell_type": "markdown",
   "metadata": {},
   "source": [
    "## Path Manipulation "
   ]
  },
  {
   "cell_type": "markdown",
   "metadata": {},
   "source": [
    "1. Intelligently concatenates multiple path components, ensuring the correct path separators are used\n",
    "\n",
    "`os.path.join(*paths)`"
   ]
  },
  {
   "cell_type": "code",
   "execution_count": 18,
   "metadata": {},
   "outputs": [
    {
     "name": "stdout",
     "output_type": "stream",
     "text": [
      "['Deepraj', 'Vadhwane']\n"
     ]
    },
    {
     "data": {
      "text/plain": [
       "'Deepraj Vadhwane'"
      ]
     },
     "execution_count": 18,
     "metadata": {},
     "output_type": "execute_result"
    }
   ],
   "source": [
    "lst = [\"Deepraj\",\"Vadhwane\"]\n",
    "print(lst)\n",
    "\" \".join(lst)"
   ]
  },
  {
   "cell_type": "code",
   "execution_count": 23,
   "metadata": {},
   "outputs": [
    {
     "name": "stdout",
     "output_type": "stream",
     "text": [
      "Main folder\\Sub folder\\folder\\1.json\n"
     ]
    }
   ],
   "source": [
    "import os\n",
    "\n",
    "# Join folder, subfolder, and file names into a single path\n",
    "full_path = os.path.join(\"Main folder\",\"Sub folder\",\"folder\",\"1.json\")\n",
    "print(full_path) \n"
   ]
  },
  {
   "cell_type": "markdown",
   "metadata": {},
   "source": [
    "2. Returns the base name (the file or last directory in a path).\n",
    "\n",
    "`os.path.basename(path)`"
   ]
  },
  {
   "cell_type": "code",
   "execution_count": null,
   "metadata": {},
   "outputs": [],
   "source": []
  },
  {
   "cell_type": "code",
   "execution_count": 22,
   "metadata": {},
   "outputs": [
    {
     "name": "stdout",
     "output_type": "stream",
     "text": [
      "Sample data\n"
     ]
    }
   ],
   "source": [
    "# Extract the directory from a path\n",
    "\n",
    "print(os.path.dirname(\"Sample data/first.json\"))"
   ]
  },
  {
   "cell_type": "code",
   "execution_count": null,
   "metadata": {},
   "outputs": [],
   "source": []
  },
  {
   "cell_type": "markdown",
   "metadata": {},
   "source": [
    "## Advanced Concepts in the os Module\n"
   ]
  },
  {
   "cell_type": "markdown",
   "metadata": {},
   "source": [
    "**Purpose:**\n",
    "Recursively generates file names and directory paths in a directory tree.\n",
    "\n",
    "**Returns:**\n",
    "A generator that yields a tuple (dirpath, dirnames, filenames) for each directory in the tree.\n",
    "\n",
    "`os.walk()` — Directory Traversal"
   ]
  },
  {
   "cell_type": "code",
   "execution_count": 37,
   "metadata": {},
   "outputs": [
    {
     "name": "stdout",
     "output_type": "stream",
     "text": [
      "1\n",
      "2\n",
      "3\n",
      "4\n",
      "5\n",
      "6\n",
      "7\n",
      "8\n",
      "9\n"
     ]
    }
   ],
   "source": [
    "for i in range(1,10):\n",
    "    print(i)"
   ]
  },
  {
   "cell_type": "code",
   "execution_count": null,
   "metadata": {},
   "outputs": [],
   "source": [
    "# i --> FOlders\n",
    "# j --> subfolders\n",
    "# k --> files( json,csv,text,img, ....)"
   ]
  },
  {
   "cell_type": "code",
   "execution_count": 50,
   "metadata": {},
   "outputs": [
    {
     "name": "stdout",
     "output_type": "stream",
     "text": [
      "mainfoler_name: Maharashtra\n",
      "subfolder_names: ['2020', '2021', '2022', '2023', '2024']\n",
      "filenames: []\n",
      "mainfoler_name: Maharashtra\\2020\n",
      "subfolder_names: []\n",
      "filenames: ['2.json', '3.json', '4.json']\n",
      "mainfoler_name: Maharashtra\\2021\n",
      "subfolder_names: []\n",
      "filenames: ['1.json', '2.json', '3.json', '4.json']\n",
      "mainfoler_name: Maharashtra\\2022\n",
      "subfolder_names: []\n",
      "filenames: ['1.json', '2.json', '3.json', '4.json']\n",
      "mainfoler_name: Maharashtra\\2023\n",
      "subfolder_names: []\n",
      "filenames: ['1.json', '2.json', '3.json', '4.json']\n",
      "mainfoler_name: Maharashtra\\2024\n",
      "subfolder_names: []\n",
      "filenames: ['1.json']\n"
     ]
    }
   ],
   "source": [
    "import os\n",
    "\n",
    "# Walk through all directories and files in a given path\n",
    "for mainfoler_name, subfolder_names, filenames in os.walk('Maharashtra'):\n",
    "    print(f\"mainfoler_name: {mainfoler_name}\")\n",
    "    print(f\"subfolder_names: {subfolder_names}\")\n",
    "    print(f\"filenames: {filenames}\")\n"
   ]
  },
  {
   "cell_type": "markdown",
   "metadata": {},
   "source": [
    "### Explanation:\n",
    "\n",
    "- `dirpath:` The path to the current directory being examined.\n",
    "- `dirnames:` A list of subdirectories in the current directory.\n",
    "- `filenames:` A list of files in the current directory."
   ]
  },
  {
   "cell_type": "markdown",
   "metadata": {},
   "source": [
    "2. `os.scandir()` — Efficient Directory Iteration\n",
    "\n",
    "**Purpose:**\n",
    "Provides an iterator to scan a directory for entries more efficiently than os.listdir(). Each entry is a DirEntry object, which provides metadata without extra system calls.\n",
    "\n",
    "`os.scandir()` — Efficient Directory Iteration"
   ]
  },
  {
   "cell_type": "code",
   "execution_count": null,
   "metadata": {},
   "outputs": [],
   "source": []
  },
  {
   "cell_type": "markdown",
   "metadata": {},
   "source": [
    "# File Handling in the os Module"
   ]
  },
  {
   "cell_type": "markdown",
   "metadata": {},
   "source": [
    "1. Opening a File (os.open)\n",
    "\n",
    "Opens a file and returns a file descriptor. This is a lower-level function compared to Python's built-in `open()`.\n",
    "\n"
   ]
  },
  {
   "cell_type": "markdown",
   "metadata": {},
   "source": [
    "- **file:** Path to the file to open.\n",
    "- **flags:** Specifies access mode (e.g., read, write, create).\n",
    "- **mode:** File permission mode (default is 0o777)."
   ]
  },
  {
   "cell_type": "code",
   "execution_count": null,
   "metadata": {},
   "outputs": [],
   "source": []
  },
  {
   "cell_type": "markdown",
   "metadata": {},
   "source": [
    "### 1. Opening a File\n",
    "In Python, you use the open() function to open a file. The open() function requires two arguments:\n",
    "\n",
    "The file path (relative or absolute).\n",
    "The mode in which the file should be opened.\n",
    "\n",
    "**Modes:**\n",
    "- 'r': Read (default). Opens the file for reading.\n",
    "- 'w': Write. Creates a new file or overwrites an existing file.\n",
    "- 'a': Append. Opens the file for appending, creating it if it doesn't exist.\n",
    "- 'x': Exclusive creation. Creates a new file, but fails if the file exists.\n",
    "- 'b': Binary mode. Used when working with binary files (e.g., images).\n",
    "- 't': Text mode (default). Deals with text files."
   ]
  },
  {
   "cell_type": "code",
   "execution_count": 31,
   "metadata": {},
   "outputs": [
    {
     "data": {
      "text/plain": [
       "'{\"success\":true,\"code\":\"SUCCESS\",\"data\":{\"from\":1672511400000,\"to\":1679941800000,\"transactionData\":[{\"name\":\"Insurance\",\"paymentInstruments\":[{\"type\":\"TOTAL\",\"count\":112174,\"amount\":1.66596248E8}]}]},\"responseTimestamp\":1692619165853}'"
      ]
     },
     "execution_count": 31,
     "metadata": {},
     "output_type": "execute_result"
    }
   ],
   "source": [
    "file = open(\"Maharashtra/2023/1.json\",\"r\")\n",
    "file.read()"
   ]
  },
  {
   "cell_type": "code",
   "execution_count": 32,
   "metadata": {},
   "outputs": [
    {
     "name": "stdout",
     "output_type": "stream",
     "text": [
      "{\"success\":true,\"code\":\"SUCCESS\",\"data\":{\"from\":1672511400000,\"to\":1679941800000,\"transactionData\":[{\"name\":\"Insurance\",\"paymentInstruments\":[{\"type\":\"TOTAL\",\"count\":112174,\"amount\":1.66596248E8}]}]},\"responseTimestamp\":1692619165853}\n"
     ]
    }
   ],
   "source": [
    "with open('Maharashtra/2023/1.json', 'r') as file:\n",
    "    content = file.read()\n",
    "    print(content)\n"
   ]
  },
  {
   "cell_type": "code",
   "execution_count": 35,
   "metadata": {},
   "outputs": [],
   "source": [
    "with open('Maharashtra/2023/1.json', 'r') as file:\n",
    "    content = file.read()\n",
    "\n"
   ]
  },
  {
   "cell_type": "code",
   "execution_count": 26,
   "metadata": {},
   "outputs": [
    {
     "name": "stdout",
     "output_type": "stream",
     "text": [
      "{\n",
      "    \"success\": true,\n",
      "    \"code\": \"SUCCESS\",\n",
      "    \"data\": {\n",
      "        \"from\": 1514745000000,\n",
      "        \"to\": 1522175400000,\n",
      "        \"transactionData\": [\n",
      "            {\n",
      "                \"name\": \"Recharge & bill payments\",\n",
      "                \"paymentInstruments\": [\n",
      "                    {\n",
      "                        \"type\": \"TOTAL\",\n",
      "                        \"count\": 72550406,\n",
      "                        \"amount\": 1.4472713558652578E10\n",
      "                    }\n",
      "                ]\n",
      "            },\n",
      "            {\n",
      "                \"name\": \"Peer-to-peer payments\",\n",
      "                \"paymentInstruments\": [\n",
      "                    {\n",
      "                        \"type\": \"TOTAL\",\n",
      "                        \"count\": 46982705,\n",
      "                        \"amount\": 1.4724588354277402E11\n",
      "                    }\n",
      "                ]\n",
      "            },\n",
      "            {\n",
      "                \"name\": \"Merchant payments\",\n",
      "                \"paymentInstruments\": [\n",
      "                    {\n",
      "                        \"type\": \"TOTAL\",\n",
      "                        \"count\": 5368669,\n",
      "                        \"amount\": 4.656678915140091E9\n",
      "                    }\n",
      "                ]\n",
      "            },\n",
      "            {\n",
      "                \"name\": \"Financial Services\",\n",
      "                \"paymentInstruments\": [\n",
      "                    {\n",
      "                        \"type\": \"TOTAL\",\n",
      "                        \"count\": 3762820,\n",
      "                        \"amount\": 8.158531051000277E8\n",
      "                    }\n",
      "                ]\n",
      "            },\n",
      "            {\n",
      "                \"name\": \"Others\",\n",
      "                \"paymentInstruments\": [\n",
      "                    {\n",
      "                        \"type\": \"TOTAL\",\n",
      "                        \"count\": 5761576,\n",
      "                        \"amount\": 4.643217301269438E9\n",
      "                    }\n",
      "                ]\n",
      "            }\n",
      "        ]\n",
      "    },\n",
      "    \"responseTimestamp\": 1630346628866\n",
      "}\n"
     ]
    }
   ],
   "source": [
    "# Open a file in read mode\n",
    "file = open('Sample data/first.json', 'r')\n",
    "\n",
    "# Read the file content\n",
    "content = file.read()\n",
    "print(content)\n",
    "\n",
    "# Close the file\n",
    "file.close()\n"
   ]
  },
  {
   "cell_type": "markdown",
   "metadata": {},
   "source": [
    "### 2. Using the with Statement\n",
    "Instead of manually opening and closing files, you can use the with statement, which automatically closes the file once the block is executed."
   ]
  },
  {
   "cell_type": "code",
   "execution_count": null,
   "metadata": {},
   "outputs": [
    {
     "name": "stdout",
     "output_type": "stream",
     "text": [
      "{\n",
      "    \"success\": true,\n",
      "    \"code\": \"SUCCESS\",\n",
      "    \"data\": {\n",
      "        \"from\": 1514745000000,\n",
      "        \"to\": 1522175400000,\n",
      "        \"transactionData\": [\n",
      "            {\n",
      "                \"name\": \"Recharge & bill payments\",\n",
      "                \"paymentInstruments\": [\n",
      "                    {\n",
      "                        \"type\": \"TOTAL\",\n",
      "                        \"count\": 72550406,\n",
      "                        \"amount\": 1.4472713558652578E10\n",
      "                    }\n",
      "                ]\n",
      "            },\n",
      "            {\n",
      "                \"name\": \"Peer-to-peer payments\",\n",
      "                \"paymentInstruments\": [\n",
      "                    {\n",
      "                        \"type\": \"TOTAL\",\n",
      "                        \"count\": 46982705,\n",
      "                        \"amount\": 1.4724588354277402E11\n",
      "                    }\n",
      "                ]\n",
      "            },\n",
      "            {\n",
      "                \"name\": \"Merchant payments\",\n",
      "                \"paymentInstruments\": [\n",
      "                    {\n",
      "                        \"type\": \"TOTAL\",\n",
      "                        \"count\": 5368669,\n",
      "                        \"amount\": 4.656678915140091E9\n",
      "                    }\n",
      "                ]\n",
      "            },\n",
      "            {\n",
      "                \"name\": \"Financial Services\",\n",
      "                \"paymentInstruments\": [\n",
      "                    {\n",
      "                        \"type\": \"TOTAL\",\n",
      "                        \"count\": 3762820,\n",
      "                        \"amount\": 8.158531051000277E8\n",
      "                    }\n",
      "                ]\n",
      "            },\n",
      "            {\n",
      "                \"name\": \"Others\",\n",
      "                \"paymentInstruments\": [\n",
      "                    {\n",
      "                        \"type\": \"TOTAL\",\n",
      "                        \"count\": 5761576,\n",
      "                        \"amount\": 4.643217301269438E9\n",
      "                    }\n",
      "                ]\n",
      "            }\n",
      "        ]\n",
      "    },\n",
      "    \"responseTimestamp\": 1630346628866\n",
      "}\n"
     ]
    }
   ],
   "source": [
    "with open('Sample data/first.json', 'r') as file:\n",
    "    content = file.read()\n",
    "    print(content)\n"
   ]
  },
  {
   "cell_type": "markdown",
   "metadata": {},
   "source": [
    "### 3. Reading the File\n",
    "There are several methods for reading file content, depending on your needs."
   ]
  },
  {
   "cell_type": "code",
   "execution_count": 36,
   "metadata": {},
   "outputs": [
    {
     "name": "stdout",
     "output_type": "stream",
     "text": [
      "{\"success\":true,\"code\":\"SUCCESS\",\"data\":{\"from\":1530383400000,\"to\":1538073000000,\"transactionData\":[{\"name\":\"Peer-to-peer payments\",\"paymentInstruments\":[{\"type\":\"TOTAL\",\"count\":202021587,\"amount\":4.259674217140399E11}]},{\"name\":\"Recharge & bill payments\",\"paymentInstruments\":[{\"type\":\"TOTAL\",\"count\":102290514,\"amount\":3.1364311860394596E10}]},{\"name\":\"Merchant payments\",\"paymentInstruments\":[{\"type\":\"TOTAL\",\"count\":25175938,\"amount\":1.2433150984830223E10}]},{\"name\":\"Financial Services\",\"paymentInstruments\":[{\"type\":\"TOTAL\",\"count\":6218596,\"amount\":8.914478094200314E8}]},{\"name\":\"Others\",\"paymentInstruments\":[{\"type\":\"TOTAL\",\"count\":5594554,\"amount\":4.44955627754975E9}]}]},\"responseTimestamp\":1630501481911}\n"
     ]
    }
   ],
   "source": [
    "with open('Sample data/3.json', 'r') as file:\n",
    "    content = file.read()\n",
    "    print(content)\n"
   ]
  },
  {
   "cell_type": "markdown",
   "metadata": {},
   "source": [
    "### 4. Writing to a File\n",
    "To write to a file, use the 'w', 'a', or 'x' mode. The 'w' mode overwrites the file, while 'a' appends data."
   ]
  },
  {
   "cell_type": "code",
   "execution_count": 37,
   "metadata": {},
   "outputs": [],
   "source": [
    "with open('example.txt', 'w') as file:\n",
    "    file.write(\"This is a new line in the file.\")\n"
   ]
  },
  {
   "cell_type": "markdown",
   "metadata": {},
   "source": [
    "### 5. Checking File Existence with os.path\n",
    "Before working with files, you may want to check if the file exists using os.path.exists(). This prevents errors if the file is missing."
   ]
  },
  {
   "cell_type": "code",
   "execution_count": 38,
   "metadata": {},
   "outputs": [
    {
     "name": "stdout",
     "output_type": "stream",
     "text": [
      "The file exists!\n"
     ]
    }
   ],
   "source": [
    "import os\n",
    "\n",
    "if os.path.exists('example.txt'):\n",
    "    print(\"The file exists!\")\n",
    "else:\n",
    "    print(\"The file does not exist.\")\n"
   ]
  },
  {
   "cell_type": "markdown",
   "metadata": {},
   "source": []
  },
  {
   "cell_type": "code",
   "execution_count": 6,
   "metadata": {},
   "outputs": [
    {
     "name": "stdout",
     "output_type": "stream",
     "text": [
      "True\n"
     ]
    }
   ],
   "source": [
    "\n",
    "import os\n",
    "print(os.path.exists(\"Sample data/3.json\"))\n"
   ]
  },
  {
   "cell_type": "code",
   "execution_count": 8,
   "metadata": {},
   "outputs": [
    {
     "name": "stdout",
     "output_type": "stream",
     "text": [
      "Permission denied: Unable to open the file.\n"
     ]
    }
   ],
   "source": [
    "try:\n",
    "    with open(\"Sample data\", \"r\") as file:\n",
    "        content = file.read()\n",
    "except PermissionError:\n",
    "    print(\"Permission denied: Unable to open the file.\")\n",
    "except FileNotFoundError:\n",
    "    print(\"File not found: Check the file path.\")\n",
    "except Exception as e:\n",
    "    print(f\"An error occurred: {e}\")\n"
   ]
  },
  {
   "cell_type": "markdown",
   "metadata": {},
   "source": []
  }
 ],
 "metadata": {
  "kernelspec": {
   "display_name": "Python 3",
   "language": "python",
   "name": "python3"
  },
  "language_info": {
   "codemirror_mode": {
    "name": "ipython",
    "version": 3
   },
   "file_extension": ".py",
   "mimetype": "text/x-python",
   "name": "python",
   "nbconvert_exporter": "python",
   "pygments_lexer": "ipython3",
   "version": "3.13.0"
  }
 },
 "nbformat": 4,
 "nbformat_minor": 2
}
